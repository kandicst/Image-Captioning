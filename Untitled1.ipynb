{
 "cells": [
  {
   "cell_type": "markdown",
   "metadata": {},
   "source": [
    "# Image Captioning"
   ]
  },
  {
   "cell_type": "code",
   "execution_count": 1,
   "metadata": {},
   "outputs": [],
   "source": [
    "from __future__ import unicode_literals, print_function, division\n",
    "from io import open\n",
    "import unicodedata\n",
    "import string\n",
    "import spacy\n",
    "import re\n",
    "import random\n",
    "import json\n",
    "\n",
    "import torch\n",
    "import torch.nn as nn\n",
    "from torch import optim\n",
    "import torch.nn.functional as F\n",
    "%load_ext autoreload\n",
    "%autoreload 2\n",
    "\n",
    "device = torch.device(\"cuda\" if torch.cuda.is_available() else \"cpu\")"
   ]
  },
  {
   "cell_type": "code",
   "execution_count": 2,
   "metadata": {},
   "outputs": [],
   "source": [
    "from torchtext.datasets import Multi30k\n",
    "from torchtext.data import Field, BucketIterator"
   ]
  },
  {
   "cell_type": "code",
   "execution_count": 3,
   "metadata": {},
   "outputs": [],
   "source": [
    "extracted_data_train_dir = 'extracted_data/train/'\n",
    "extracted_data_test_dir = 'extracted_data/test/'"
   ]
  },
  {
   "cell_type": "code",
   "execution_count": 4,
   "metadata": {},
   "outputs": [],
   "source": [
    "def load_json(file):\n",
    "    with open(file, 'r') as f1:\n",
    "        return json.loads(f1.read())"
   ]
  },
  {
   "cell_type": "code",
   "execution_count": 5,
   "metadata": {},
   "outputs": [
    {
     "name": "stdout",
     "output_type": "stream",
     "text": [
      "mscoco/train/img/COCO_train2014_000000318556 <START> A very clean and well decorated empty bathroom <END>\n"
     ]
    }
   ],
   "source": [
    "train_captions = load_json(extracted_data_train_dir + 'captions.json')\n",
    "train_image_paths = load_json(extracted_data_train_dir + 'image_paths.json')"
   ]
  },
  {
   "cell_type": "code",
   "execution_count": null,
   "metadata": {},
   "outputs": [],
   "source": [
    "print(train_image_paths[0], train_captions[0])"
   ]
  },
  {
   "cell_type": "markdown",
   "metadata": {},
   "source": [
    "## Building a vocabulary"
   ]
  },
  {
   "cell_type": "code",
   "execution_count": 6,
   "metadata": {},
   "outputs": [],
   "source": [
    "from Vocabulary import Vocabulary"
   ]
  },
  {
   "cell_type": "code",
   "execution_count": 7,
   "metadata": {},
   "outputs": [],
   "source": [
    "max_vocab_size = 10000"
   ]
  },
  {
   "cell_type": "code",
   "execution_count": 8,
   "metadata": {},
   "outputs": [],
   "source": [
    "from collections import defaultdict\n",
    "\n",
    "word_freq = defaultdict(int)\n",
    "word_to_idx = {\"<pad>\": 0, \"<start>\": 1, \"<end>\": 2, '<unk>': 3}\n",
    "idx_to_word = {0: \"<pad>\", 1: \"<start>\", 2: \"<end>\", 3: '<unk>'}\n",
    "\n",
    "unk_idx = word_to_idx['<unk>']"
   ]
  },
  {
   "cell_type": "code",
   "execution_count": 9,
   "metadata": {},
   "outputs": [],
   "source": [
    "def preprocess_caption(caption):\n",
    "    return caption.lower().split()"
   ]
  },
  {
   "cell_type": "code",
   "execution_count": 10,
   "metadata": {},
   "outputs": [
    {
     "data": {
      "text/plain": [
       "249454"
      ]
     },
     "execution_count": 10,
     "metadata": {},
     "output_type": "execute_result"
    }
   ],
   "source": [
    "for caption in train_captions:\n",
    "    caption = preprocess_caption(caption)\n",
    "    for word in caption:\n",
    "        if word in word_freq: word_freq[word] += 1\n",
    "        else: word_freq[word] = 1\n",
    "\n",
    "word_freq.pop(\"<start>\", None)\n",
    "word_freq.pop(\"<end>\", None)"
   ]
  },
  {
   "cell_type": "code",
   "execution_count": 11,
   "metadata": {},
   "outputs": [
    {
     "name": "stdout",
     "output_type": "stream",
     "text": [
      "4\n"
     ]
    },
    {
     "data": {
      "text/plain": [
       "10000"
      ]
     },
     "execution_count": 11,
     "metadata": {},
     "output_type": "execute_result"
    }
   ],
   "source": [
    "start_idx = len(word_to_idx)\n",
    "print(start_idx)\n",
    "\n",
    "# get top K words\n",
    "for word in sorted(word_freq, key=word_freq.get, reverse=True):\n",
    "    word_to_idx[word] = start_idx\n",
    "    idx_to_word[start_idx] = word\n",
    "    start_idx += 1\n",
    "    if start_idx >= max_vocab_size: break\n",
    "\n",
    "len(word_to_idx)"
   ]
  },
  {
   "cell_type": "code",
   "execution_count": 12,
   "metadata": {},
   "outputs": [],
   "source": [
    "def encode_sentence(sentence):\n",
    "    return [word_to_idx.get(x, unk_idx) for x in preprocess_caption(sentence)]\n",
    "\n",
    "def decode_sentence(indices):\n",
    "    return \" \".join([idx_to_word.get(x, '<unk>') for x in indices])"
   ]
  },
  {
   "cell_type": "code",
   "execution_count": 13,
   "metadata": {},
   "outputs": [
    {
     "name": "stdout",
     "output_type": "stream",
     "text": [
      "[132, 11, 665, 1931]\n",
      "this is not fun\n"
     ]
    }
   ],
   "source": [
    "sentence = 'This is not fun'\n",
    "encoded = encode_sentence(sentence)\n",
    "decoded = decode_sentence(encoded)\n",
    "\n",
    "print(encoded)\n",
    "print(decoded)"
   ]
  },
  {
   "cell_type": "code",
   "execution_count": 14,
   "metadata": {},
   "outputs": [],
   "source": [
    "train_vocab = Vocabulary(train_captions, max_vocab_size)"
   ]
  },
  {
   "cell_type": "code",
   "execution_count": 15,
   "metadata": {},
   "outputs": [
    {
     "name": "stdout",
     "output_type": "stream",
     "text": [
      "[1, 4, 125, 473, 10, 742, 480, 230, 38, 2]\n",
      "<start> a very clean and well decorated empty bathroom <end>\n",
      "<START> A very clean and well decorated empty bathroom <END>\n"
     ]
    }
   ],
   "source": [
    "print(train_vocab.encoded_captions[0])\n",
    "print(train_vocab.decode_sentence(train_vocab.encoded_captions[0]))\n",
    "print(train_captions[0])"
   ]
  },
  {
   "cell_type": "markdown",
   "metadata": {},
   "source": [
    "Create encoded captions for each caption in training"
   ]
  },
  {
   "cell_type": "code",
   "execution_count": 16,
   "metadata": {},
   "outputs": [
    {
     "name": "stdout",
     "output_type": "stream",
     "text": [
      "[[1, 4, 125, 473, 10, 742, 480, 230, 38, 2]]\n",
      "<start> a very clean and well decorated empty bathroom <end>\n",
      "['<START> A very clean and well decorated empty bathroom <END>']\n"
     ]
    }
   ],
   "source": [
    "encoded_captions_train = [encode_sentence(x) for x in train_captions]\n",
    "\n",
    "print(encoded_captions_train[:1])\n",
    "print(decode_sentence(encoded_captions_train[0]))\n",
    "print(train_captions[:1])"
   ]
  },
  {
   "cell_type": "code",
   "execution_count": 17,
   "metadata": {},
   "outputs": [
    {
     "data": {
      "text/plain": [
       "249454"
      ]
     },
     "execution_count": 17,
     "metadata": {},
     "output_type": "execute_result"
    }
   ],
   "source": [
    "len(encoded_captions_train)"
   ]
  },
  {
   "cell_type": "markdown",
   "metadata": {},
   "source": [
    "## Create Dataset"
   ]
  },
  {
   "cell_type": "code",
   "execution_count": 18,
   "metadata": {},
   "outputs": [],
   "source": [
    "from torch.utils.data import DataLoader\n",
    "from MyDataset import MyDataset"
   ]
  },
  {
   "cell_type": "code",
   "execution_count": 22,
   "metadata": {},
   "outputs": [
    {
     "name": "stdout",
     "output_type": "stream",
     "text": [
      "249454\n"
     ]
    }
   ],
   "source": [
    "from torch.nn.utils.rnn import pad_sequence\n",
    "wat = [torch.tensor(x[1:], dtype=torch.int16) for x in train_vocab.encoded_captions]\n",
    "padded = pad_sequence(wat).permute(1, 0)\n",
    "print(len(padded))"
   ]
  },
  {
   "cell_type": "code",
   "execution_count": 23,
   "metadata": {},
   "outputs": [
    {
     "data": {
      "text/plain": [
       "tensor([  4, 125, 473,  10, 742, 480, 230,  38,   2,   0,   0,   0,   0,   0,\n",
       "          0,   0,   0,   0,   0,   0,   0,   0,   0,   0,   0,   0,   0,   0,\n",
       "          0,   0,   0,   0,   0,   0,   0,   0,   0,   0,   0,   0,   0,   0,\n",
       "          0,   0,   0,   0,   0,   0,   0,   0], dtype=torch.int16)"
      ]
     },
     "execution_count": 23,
     "metadata": {},
     "output_type": "execute_result"
    }
   ],
   "source": [
    "padded[0]"
   ]
  },
  {
   "cell_type": "code",
   "execution_count": 24,
   "metadata": {},
   "outputs": [],
   "source": [
    "dataset = MyDataset(enc_captions=padded,\n",
    "                    image_paths=train_image_paths,\n",
    "                   data_dir=extracted_data_train_dir + 'vecs/')"
   ]
  },
  {
   "cell_type": "code",
   "execution_count": 25,
   "metadata": {},
   "outputs": [],
   "source": [
    "# small dataste\n",
    "dataset = MyDataset(enc_captions=padded[:300],\n",
    "                    image_paths=train_image_paths[:300],\n",
    "                   data_dir=extracted_data_train_dir + 'vecs/')"
   ]
  },
  {
   "cell_type": "code",
   "execution_count": 26,
   "metadata": {
    "scrolled": true
   },
   "outputs": [],
   "source": [
    "x = dataset[5]"
   ]
  },
  {
   "cell_type": "code",
   "execution_count": 27,
   "metadata": {},
   "outputs": [
    {
     "data": {
      "text/plain": [
       "torch.Size([64, 2048])"
      ]
     },
     "execution_count": 27,
     "metadata": {},
     "output_type": "execute_result"
    }
   ],
   "source": [
    "dataset[0][0].shape"
   ]
  },
  {
   "cell_type": "code",
   "execution_count": 28,
   "metadata": {},
   "outputs": [],
   "source": [
    "dataloader = DataLoader(dataset=dataset, batch_size=256, \n",
    "                         num_workers = 0)"
   ]
  },
  {
   "cell_type": "code",
   "execution_count": 29,
   "metadata": {},
   "outputs": [
    {
     "name": "stdout",
     "output_type": "stream",
     "text": [
      "0 torch.Size([256, 64, 2048])\n",
      "torch.Size([50])\n",
      "[4, 125, 473, 10, 742, 480, 230, 38, 2, 0, 0, 0, 0, 0, 0, 0, 0, 0, 0, 0, 0, 0, 0, 0, 0, 0, 0, 0, 0, 0, 0, 0, 0, 0, 0, 0, 0, 0, 0, 0, 0, 0, 0, 0, 0, 0, 0, 0, 0, 0]\n",
      "a very clean and well decorated empty bathroom <end> <pad> <pad> <pad> <pad> <pad> <pad> <pad> <pad> <pad> <pad> <pad> <pad> <pad> <pad> <pad> <pad> <pad> <pad> <pad> <pad> <pad> <pad> <pad> <pad> <pad> <pad> <pad> <pad> <pad> <pad> <pad> <pad> <pad> <pad> <pad> <pad> <pad> <pad> <pad> <pad> <pad>\n"
     ]
    }
   ],
   "source": [
    "for idx, data in enumerate(dataloader):\n",
    "    imgs, labels = data[0], data[1]\n",
    "    print(idx, imgs.shape)\n",
    "    print(labels[0].shape)\n",
    "    print(labels[0].tolist())\n",
    "    print(decode_sentence(labels[0].tolist()))\n",
    "    break"
   ]
  },
  {
   "cell_type": "markdown",
   "metadata": {},
   "source": [
    "## Train model"
   ]
  },
  {
   "cell_type": "code",
   "execution_count": 30,
   "metadata": {},
   "outputs": [],
   "source": [
    "from layers.Encoder import Encoder\n",
    "from layers.Decoder import Decoder\n",
    "from layers.Attention import Attention\n",
    "from layers.End2End import End2End"
   ]
  },
  {
   "cell_type": "code",
   "execution_count": 31,
   "metadata": {},
   "outputs": [],
   "source": [
    "# INPUT_DIM = len(SRC.vocab)\n",
    "# OUTPUT_DIM = len(TRG.vocab)\n",
    "DEC_EMB_DIM = 1024\n",
    "ENC_INPUT = 2048\n",
    "ENC_OUTPUT = 256\n",
    "DEC_HID_DIM = 512\n",
    "DEC_OUTPUT = 512\n",
    "ATTN_DIM = 512\n",
    "EMB_DIM = 256\n",
    "ENC_DROPOUT = 0.5\n",
    "DEC_DROPOUT = 0.5"
   ]
  },
  {
   "cell_type": "code",
   "execution_count": 32,
   "metadata": {},
   "outputs": [],
   "source": [
    "PAD_IDX = 0\n",
    "\n",
    "criterion = nn.CrossEntropyLoss(ignore_index=PAD_IDX)"
   ]
  },
  {
   "cell_type": "code",
   "execution_count": 33,
   "metadata": {},
   "outputs": [],
   "source": [
    "def count_parameters(model: nn.Module):\n",
    "    return sum(p.numel() for p in model.parameters() if p.requires_grad)"
   ]
  },
  {
   "cell_type": "code",
   "execution_count": 101,
   "metadata": {},
   "outputs": [],
   "source": [
    "torch.cuda.empty_cache()"
   ]
  },
  {
   "cell_type": "code",
   "execution_count": 102,
   "metadata": {},
   "outputs": [
    {
     "name": "stdout",
     "output_type": "stream",
     "text": [
      "The model has 10,447,889 trainable parameters\n"
     ]
    }
   ],
   "source": [
    "torch.cuda.empty_cache()\n",
    "model = End2End(ENC_INPUT, ENC_OUTPUT, DEC_HID_DIM, DEC_OUTPUT,\n",
    "               EMB_DIM, ATTN_DIM, train_vocab, criterion, device)\n",
    "\n",
    "print(f'The model has {count_parameters(model):,} trainable parameters')"
   ]
  },
  {
   "cell_type": "code",
   "execution_count": 103,
   "metadata": {},
   "outputs": [],
   "source": [
    "optimizer = optim.Adam(model.parameters())"
   ]
  },
  {
   "cell_type": "code",
   "execution_count": 104,
   "metadata": {},
   "outputs": [],
   "source": [
    "loss_plot = []\n",
    "\n",
    "def train_step(batch, captions):\n",
    "    \n",
    "    batch_size = captions.shape[0]\n",
    "    caption_length = captions.shape[1]\n",
    "    \n",
    "    optimizer.zero_grad()\n",
    "    _, loss = model(batch, captions)\n",
    "    \n",
    "    loss.backward()\n",
    "    optimizer.step()\n",
    "    total_loss = (loss / int(caption_length))\n",
    "    return loss, total_loss"
   ]
  },
  {
   "cell_type": "code",
   "execution_count": null,
   "metadata": {},
   "outputs": [
    {
     "name": "stdout",
     "output_type": "stream",
     "text": [
      "Epoch 1 Batch 0 Loss 0.6578\n",
      "Epoch 1 Loss 0.518644\n",
      "Time taken for 1 epoch 3.7885286808013916 sec\n",
      "\n",
      "Epoch 2 Batch 0 Loss 0.6541\n",
      "Epoch 2 Loss 0.515746\n",
      "Time taken for 1 epoch 3.7794599533081055 sec\n",
      "\n",
      "Epoch 3 Batch 0 Loss 0.6504\n",
      "Epoch 3 Loss 0.512877\n",
      "Time taken for 1 epoch 3.6797139644622803 sec\n",
      "\n",
      "Epoch 4 Batch 0 Loss 0.6468\n",
      "Epoch 4 Loss 0.509986\n",
      "Time taken for 1 epoch 3.7026729583740234 sec\n",
      "\n",
      "Epoch 5 Batch 0 Loss 0.6432\n",
      "Epoch 5 Loss 0.507105\n",
      "Time taken for 1 epoch 4.105150461196899 sec\n",
      "\n",
      "Epoch 6 Batch 0 Loss 0.6397\n",
      "Epoch 6 Loss 0.504250\n",
      "Time taken for 1 epoch 3.887897253036499 sec\n",
      "\n",
      "Epoch 7 Batch 0 Loss 0.6361\n",
      "Epoch 7 Loss 0.501390\n",
      "Time taken for 1 epoch 3.930474042892456 sec\n",
      "\n",
      "Epoch 8 Batch 0 Loss 0.6326\n",
      "Epoch 8 Loss 0.498522\n",
      "Time taken for 1 epoch 3.9240503311157227 sec\n",
      "\n",
      "Epoch 9 Batch 0 Loss 0.6292\n",
      "Epoch 9 Loss 0.495667\n",
      "Time taken for 1 epoch 3.8865299224853516 sec\n",
      "\n",
      "Epoch 10 Batch 0 Loss 0.6257\n",
      "Epoch 10 Loss 0.492814\n",
      "Time taken for 1 epoch 4.003027677536011 sec\n",
      "\n",
      "Epoch 11 Batch 0 Loss 0.6223\n",
      "Epoch 11 Loss 0.489962\n",
      "Time taken for 1 epoch 3.8550424575805664 sec\n",
      "\n",
      "Epoch 12 Batch 0 Loss 0.6189\n",
      "Epoch 12 Loss 0.487114\n",
      "Time taken for 1 epoch 3.712491750717163 sec\n",
      "\n",
      "Epoch 13 Batch 0 Loss 0.6155\n",
      "Epoch 13 Loss 0.484274\n",
      "Time taken for 1 epoch 3.640342950820923 sec\n",
      "\n",
      "Epoch 14 Batch 0 Loss 0.6122\n",
      "Epoch 14 Loss 0.481434\n",
      "Time taken for 1 epoch 3.603444814682007 sec\n",
      "\n",
      "Epoch 15 Batch 0 Loss 0.6088\n",
      "Epoch 15 Loss 0.478598\n",
      "Time taken for 1 epoch 3.740838050842285 sec\n",
      "\n",
      "Epoch 16 Batch 0 Loss 0.6056\n",
      "Epoch 16 Loss 0.475796\n",
      "Time taken for 1 epoch 3.7329554557800293 sec\n",
      "\n",
      "Epoch 17 Batch 0 Loss 0.6023\n",
      "Epoch 17 Loss 0.472989\n",
      "Time taken for 1 epoch 3.6351847648620605 sec\n",
      "\n",
      "Epoch 18 Batch 0 Loss 0.5990\n",
      "Epoch 18 Loss 0.470180\n",
      "Time taken for 1 epoch 3.779909133911133 sec\n",
      "\n",
      "Epoch 19 Batch 0 Loss 0.5958\n",
      "Epoch 19 Loss 0.467392\n",
      "Time taken for 1 epoch 3.9098854064941406 sec\n",
      "\n",
      "Epoch 20 Batch 0 Loss 0.5926\n",
      "Epoch 20 Loss 0.464623\n",
      "Time taken for 1 epoch 3.7196731567382812 sec\n",
      "\n",
      "Epoch 21 Batch 0 Loss 0.5894\n",
      "Epoch 21 Loss 0.461860\n",
      "Time taken for 1 epoch 3.6032350063323975 sec\n",
      "\n",
      "Epoch 22 Batch 0 Loss 0.5862\n",
      "Epoch 22 Loss 0.459109\n",
      "Time taken for 1 epoch 3.5784220695495605 sec\n",
      "\n",
      "Epoch 23 Batch 0 Loss 0.5831\n",
      "Epoch 23 Loss 0.456361\n",
      "Time taken for 1 epoch 3.6453745365142822 sec\n",
      "\n",
      "Epoch 24 Batch 0 Loss 0.5800\n",
      "Epoch 24 Loss 0.453651\n",
      "Time taken for 1 epoch 3.685657501220703 sec\n",
      "\n",
      "Epoch 25 Batch 0 Loss 0.5769\n",
      "Epoch 25 Loss 0.450929\n",
      "Time taken for 1 epoch 3.6206459999084473 sec\n",
      "\n",
      "Epoch 26 Batch 0 Loss 0.5738\n",
      "Epoch 26 Loss 0.448234\n",
      "Time taken for 1 epoch 3.656287908554077 sec\n",
      "\n",
      "Epoch 27 Batch 0 Loss 0.5707\n",
      "Epoch 27 Loss 0.445552\n",
      "Time taken for 1 epoch 3.635725975036621 sec\n",
      "\n",
      "Epoch 28 Batch 0 Loss 0.5677\n",
      "Epoch 28 Loss 0.442879\n",
      "Time taken for 1 epoch 3.5845870971679688 sec\n",
      "\n",
      "Epoch 29 Batch 0 Loss 0.5647\n",
      "Epoch 29 Loss 0.440234\n",
      "Time taken for 1 epoch 3.5833308696746826 sec\n",
      "\n",
      "Epoch 30 Batch 0 Loss 0.5617\n",
      "Epoch 30 Loss 0.437569\n",
      "Time taken for 1 epoch 3.554945468902588 sec\n",
      "\n",
      "Epoch 31 Batch 0 Loss 0.5588\n",
      "Epoch 31 Loss 0.434954\n",
      "Time taken for 1 epoch 3.5630223751068115 sec\n",
      "\n",
      "Epoch 32 Batch 0 Loss 0.5558\n",
      "Epoch 32 Loss 0.432337\n",
      "Time taken for 1 epoch 3.619326591491699 sec\n",
      "\n",
      "Epoch 33 Batch 0 Loss 0.5528\n",
      "Epoch 33 Loss 0.429714\n",
      "Time taken for 1 epoch 3.7056353092193604 sec\n",
      "\n"
     ]
    }
   ],
   "source": [
    "import time\n",
    "\n",
    "EPOCHS = 100\n",
    "\n",
    "def train():\n",
    "    model.train()\n",
    "    for epoch in range(EPOCHS):\n",
    "        start = time.time()\n",
    "        total_loss = 0\n",
    "        \n",
    "        steps = 0\n",
    "        for idx, batch in enumerate(dataloader):\n",
    "            img_tensor, target, _ = batch[0], batch[1], batch[2]\n",
    "            \n",
    "            batch_loss, t_loss = train_step(img_tensor, target)\n",
    "            total_loss += t_loss.item()\n",
    "#             return\n",
    "            \n",
    "            if idx % 500 == 0:\n",
    "                print ('Epoch {} Batch {} Loss {:.4f}'.format(\n",
    "                  epoch + 1, idx, batch_loss.item() / int(target.shape[1])))\n",
    "            steps += 1\n",
    "            \n",
    "        if epoch == 0:\n",
    "            dataloader.dataset.set_use_cache(True)\n",
    "            dataloader.num_workers = 4\n",
    "\n",
    "        # storing the epoch end loss value to plot later\n",
    "        loss_plot.append(total_loss / steps)\n",
    "\n",
    "        print ('Epoch {} Loss {:.6f}'.format(epoch + 1,\n",
    "                                             total_loss/steps))\n",
    "        print ('Time taken for 1 epoch {} sec\\n'.format(time.time() - start))\n",
    "\n",
    "train()"
   ]
  },
  {
   "cell_type": "code",
   "execution_count": 87,
   "metadata": {},
   "outputs": [],
   "source": [
    "torch.save(model.state_dict(), 'model')"
   ]
  },
  {
   "cell_type": "code",
   "execution_count": 89,
   "metadata": {},
   "outputs": [
    {
     "data": {
      "text/plain": [
       "<All keys matched successfully>"
      ]
     },
     "execution_count": 89,
     "metadata": {},
     "output_type": "execute_result"
    }
   ],
   "source": [
    "model.load_state_dict(torch.load('model'))"
   ]
  },
  {
   "cell_type": "code",
   "execution_count": 106,
   "metadata": {},
   "outputs": [
    {
     "data": {
      "image/png": "[encoded data removed]",
      "text/plain": [
       "<Figure size 432x288 with 1 Axes>"
      ]
     },
     "metadata": {
      "needs_background": "light"
     },
     "output_type": "display_data"
    }
   ],
   "source": [
    "import matplotlib.pyplot as plt\n",
    "plt.plot(loss_plot)\n",
    "plt.xlabel('Epochs')\n",
    "plt.ylabel('Loss')\n",
    "plt.title('Loss Plot')\n",
    "plt.show()"
   ]
  },
  {
   "cell_type": "code",
   "execution_count": 107,
   "metadata": {},
   "outputs": [],
   "source": [
    "im, cap, name = dataset[55]"
   ]
  },
  {
   "cell_type": "code",
   "execution_count": 108,
   "metadata": {},
   "outputs": [
    {
     "data": {
      "text/plain": [
       "tensor([  4,  38,   9,   4, 510,  31,   5, 195,   2,   0,   0,   0,   0,   0,\n",
       "          0,   0,   0,   0,   0,   0,   0,   0,   0,   0,   0,   0,   0,   0,\n",
       "          0,   0,   0,   0,   0,   0,   0,   0,   0,   0,   0,   0,   0,   0,\n",
       "          0,   0,   0,   0,   0,   0,   0,   0], dtype=torch.int16)"
      ]
     },
     "execution_count": 108,
     "metadata": {},
     "output_type": "execute_result"
    }
   ],
   "source": [
    "cap"
   ]
  },
  {
   "cell_type": "code",
   "execution_count": 109,
   "metadata": {},
   "outputs": [
    {
     "data": {
      "text/plain": [
       "'extracted_data/train/vecs/COCO_train2014_000000028149'"
      ]
     },
     "execution_count": 109,
     "metadata": {},
     "output_type": "execute_result"
    }
   ],
   "source": [
    "im = im.unsqueeze(0)\n",
    "cap = cap.unsqueeze(0)\n",
    "name"
   ]
  },
  {
   "cell_type": "code",
   "execution_count": 110,
   "metadata": {},
   "outputs": [
    {
     "data": {
      "text/plain": [
       "'a bathroom with a tv near the mirror <end> <pad> <pad> <pad> <pad> <pad> <pad> <pad> <pad> <pad> <pad> <pad> <pad> <pad> <pad> <pad> <pad> <pad> <pad> <pad> <pad> <pad> <pad> <pad> <pad> <pad> <pad> <pad> <pad> <pad> <pad> <pad> <pad> <pad> <pad> <pad> <pad> <pad> <pad> <pad> <pad> <pad>'"
      ]
     },
     "execution_count": 110,
     "metadata": {},
     "output_type": "execute_result"
    }
   ],
   "source": [
    "decode_sentence(cap.tolist()[0])"
   ]
  },
  {
   "cell_type": "code",
   "execution_count": 111,
   "metadata": {},
   "outputs": [
    {
     "name": "stdout",
     "output_type": "stream",
     "text": [
      "tensor([[ -7.8399, -10.5591,   2.0626,  ...,  -9.0118,  -9.3886,  -9.5738]],\n",
      "       device='cuda:0', grad_fn=<AddmmBackward>)\n",
      "tensor([[-9.0643, -9.0360,  0.8131,  ..., -8.3798, -7.9336, -8.5249]],\n",
      "       device='cuda:0', grad_fn=<AddmmBackward>)\n",
      "tensor([[ -8.8901, -10.9618,   7.5945,  ..., -10.8653, -10.6317, -11.8988]],\n",
      "       device='cuda:0', grad_fn=<AddmmBackward>)\n",
      "tensor([[-6.7172, -9.8830,  4.2961,  ..., -7.7714, -7.9196, -8.4553]],\n",
      "       device='cuda:0', grad_fn=<AddmmBackward>)\n",
      "tensor([[-9.0643, -9.0360,  0.8131,  ..., -8.3798, -7.9336, -8.5249]],\n",
      "       device='cuda:0', grad_fn=<AddmmBackward>)\n",
      "tensor([[ -8.8901, -10.9618,   7.5945,  ..., -10.8653, -10.6317, -11.8988]],\n",
      "       device='cuda:0', grad_fn=<AddmmBackward>)\n",
      "tensor([[-6.7172, -9.8830,  4.2961,  ..., -7.7714, -7.9196, -8.4553]],\n",
      "       device='cuda:0', grad_fn=<AddmmBackward>)\n",
      "tensor([[-9.0643, -9.0360,  0.8131,  ..., -8.3798, -7.9336, -8.5249]],\n",
      "       device='cuda:0', grad_fn=<AddmmBackward>)\n",
      "tensor([[ -8.8901, -10.9618,   7.5945,  ..., -10.8653, -10.6317, -11.8988]],\n",
      "       device='cuda:0', grad_fn=<AddmmBackward>)\n",
      "tensor([[-6.7172, -9.8830,  4.2961,  ..., -7.7714, -7.9196, -8.4553]],\n",
      "       device='cuda:0', grad_fn=<AddmmBackward>)\n",
      "tensor([[-9.0643, -9.0360,  0.8131,  ..., -8.3798, -7.9336, -8.5249]],\n",
      "       device='cuda:0', grad_fn=<AddmmBackward>)\n",
      "tensor([[ -8.8901, -10.9618,   7.5945,  ..., -10.8653, -10.6317, -11.8988]],\n",
      "       device='cuda:0', grad_fn=<AddmmBackward>)\n",
      "tensor([[-6.7172, -9.8830,  4.2961,  ..., -7.7714, -7.9196, -8.4553]],\n",
      "       device='cuda:0', grad_fn=<AddmmBackward>)\n",
      "tensor([[-9.0643, -9.0360,  0.8131,  ..., -8.3798, -7.9336, -8.5249]],\n",
      "       device='cuda:0', grad_fn=<AddmmBackward>)\n",
      "tensor([[ -8.8901, -10.9618,   7.5945,  ..., -10.8653, -10.6317, -11.8988]],\n",
      "       device='cuda:0', grad_fn=<AddmmBackward>)\n",
      "tensor([[-6.7172, -9.8830,  4.2961,  ..., -7.7714, -7.9196, -8.4553]],\n",
      "       device='cuda:0', grad_fn=<AddmmBackward>)\n",
      "tensor([[-9.0643, -9.0360,  0.8131,  ..., -8.3798, -7.9336, -8.5249]],\n",
      "       device='cuda:0', grad_fn=<AddmmBackward>)\n",
      "tensor([[ -8.8901, -10.9618,   7.5945,  ..., -10.8653, -10.6317, -11.8988]],\n",
      "       device='cuda:0', grad_fn=<AddmmBackward>)\n",
      "tensor([[-6.7172, -9.8830,  4.2961,  ..., -7.7714, -7.9196, -8.4553]],\n",
      "       device='cuda:0', grad_fn=<AddmmBackward>)\n",
      "tensor([[-9.0643, -9.0360,  0.8131,  ..., -8.3798, -7.9336, -8.5249]],\n",
      "       device='cuda:0', grad_fn=<AddmmBackward>)\n",
      "tensor([[ -8.8901, -10.9618,   7.5945,  ..., -10.8653, -10.6317, -11.8988]],\n",
      "       device='cuda:0', grad_fn=<AddmmBackward>)\n",
      "tensor([[-6.7172, -9.8830,  4.2961,  ..., -7.7714, -7.9196, -8.4553]],\n",
      "       device='cuda:0', grad_fn=<AddmmBackward>)\n",
      "tensor([[-9.0643, -9.0360,  0.8131,  ..., -8.3798, -7.9336, -8.5249]],\n",
      "       device='cuda:0', grad_fn=<AddmmBackward>)\n",
      "tensor([[ -8.8901, -10.9618,   7.5945,  ..., -10.8653, -10.6317, -11.8988]],\n",
      "       device='cuda:0', grad_fn=<AddmmBackward>)\n",
      "tensor([[-6.7172, -9.8830,  4.2961,  ..., -7.7714, -7.9196, -8.4553]],\n",
      "       device='cuda:0', grad_fn=<AddmmBackward>)\n",
      "tensor([[-9.0643, -9.0360,  0.8131,  ..., -8.3798, -7.9336, -8.5249]],\n",
      "       device='cuda:0', grad_fn=<AddmmBackward>)\n",
      "tensor([[ -8.8901, -10.9618,   7.5945,  ..., -10.8653, -10.6317, -11.8988]],\n",
      "       device='cuda:0', grad_fn=<AddmmBackward>)\n",
      "tensor([[-6.7172, -9.8830,  4.2961,  ..., -7.7714, -7.9196, -8.4553]],\n",
      "       device='cuda:0', grad_fn=<AddmmBackward>)\n",
      "tensor([[-9.0643, -9.0360,  0.8131,  ..., -8.3798, -7.9336, -8.5249]],\n",
      "       device='cuda:0', grad_fn=<AddmmBackward>)\n",
      "tensor([[ -8.8901, -10.9618,   7.5945,  ..., -10.8653, -10.6317, -11.8988]],\n",
      "       device='cuda:0', grad_fn=<AddmmBackward>)\n",
      "tensor([[-6.7172, -9.8830,  4.2961,  ..., -7.7714, -7.9196, -8.4553]],\n",
      "       device='cuda:0', grad_fn=<AddmmBackward>)\n",
      "tensor([[-9.0643, -9.0360,  0.8131,  ..., -8.3798, -7.9336, -8.5249]],\n",
      "       device='cuda:0', grad_fn=<AddmmBackward>)\n",
      "tensor([[ -8.8901, -10.9618,   7.5945,  ..., -10.8653, -10.6317, -11.8988]],\n",
      "       device='cuda:0', grad_fn=<AddmmBackward>)\n",
      "tensor([[-6.7172, -9.8830,  4.2961,  ..., -7.7714, -7.9196, -8.4553]],\n",
      "       device='cuda:0', grad_fn=<AddmmBackward>)\n",
      "tensor([[-9.0643, -9.0360,  0.8131,  ..., -8.3798, -7.9336, -8.5249]],\n",
      "       device='cuda:0', grad_fn=<AddmmBackward>)\n",
      "tensor([[ -8.8901, -10.9618,   7.5945,  ..., -10.8653, -10.6317, -11.8988]],\n",
      "       device='cuda:0', grad_fn=<AddmmBackward>)\n",
      "tensor([[-6.7172, -9.8830,  4.2961,  ..., -7.7714, -7.9196, -8.4553]],\n",
      "       device='cuda:0', grad_fn=<AddmmBackward>)\n",
      "tensor([[-9.0643, -9.0360,  0.8131,  ..., -8.3798, -7.9336, -8.5249]],\n",
      "       device='cuda:0', grad_fn=<AddmmBackward>)\n",
      "tensor([[ -8.8901, -10.9618,   7.5945,  ..., -10.8653, -10.6317, -11.8988]],\n",
      "       device='cuda:0', grad_fn=<AddmmBackward>)\n",
      "tensor([[-6.7172, -9.8830,  4.2961,  ..., -7.7714, -7.9196, -8.4553]],\n",
      "       device='cuda:0', grad_fn=<AddmmBackward>)\n",
      "tensor([[-9.0643, -9.0360,  0.8131,  ..., -8.3798, -7.9336, -8.5249]],\n",
      "       device='cuda:0', grad_fn=<AddmmBackward>)\n",
      "tensor([[ -8.8901, -10.9618,   7.5945,  ..., -10.8653, -10.6317, -11.8988]],\n",
      "       device='cuda:0', grad_fn=<AddmmBackward>)\n",
      "tensor([[-6.7172, -9.8830,  4.2961,  ..., -7.7714, -7.9196, -8.4553]],\n",
      "       device='cuda:0', grad_fn=<AddmmBackward>)\n",
      "tensor([[-9.0643, -9.0360,  0.8131,  ..., -8.3798, -7.9336, -8.5249]],\n",
      "       device='cuda:0', grad_fn=<AddmmBackward>)\n",
      "tensor([[ -8.8901, -10.9618,   7.5945,  ..., -10.8653, -10.6317, -11.8988]],\n",
      "       device='cuda:0', grad_fn=<AddmmBackward>)\n",
      "tensor([[-6.7172, -9.8830,  4.2961,  ..., -7.7714, -7.9196, -8.4553]],\n",
      "       device='cuda:0', grad_fn=<AddmmBackward>)\n",
      "tensor([[-9.0643, -9.0360,  0.8131,  ..., -8.3798, -7.9336, -8.5249]],\n",
      "       device='cuda:0', grad_fn=<AddmmBackward>)\n",
      "tensor([[ -8.8901, -10.9618,   7.5945,  ..., -10.8653, -10.6317, -11.8988]],\n",
      "       device='cuda:0', grad_fn=<AddmmBackward>)\n",
      "tensor([[-6.7172, -9.8830,  4.2961,  ..., -7.7714, -7.9196, -8.4553]],\n",
      "       device='cuda:0', grad_fn=<AddmmBackward>)\n",
      "tensor([[-9.0643, -9.0360,  0.8131,  ..., -8.3798, -7.9336, -8.5249]],\n",
      "       device='cuda:0', grad_fn=<AddmmBackward>)\n"
     ]
    },
    {
     "data": {
      "text/plain": [
       "['a',\n",
       " 'kitchen',\n",
       " 'with',\n",
       " 'a',\n",
       " 'kitchen',\n",
       " 'with',\n",
       " 'a',\n",
       " 'kitchen',\n",
       " 'with',\n",
       " 'a',\n",
       " 'kitchen',\n",
       " 'with',\n",
       " 'a',\n",
       " 'kitchen',\n",
       " 'with',\n",
       " 'a',\n",
       " 'kitchen',\n",
       " 'with',\n",
       " 'a',\n",
       " 'kitchen',\n",
       " 'with',\n",
       " 'a',\n",
       " 'kitchen',\n",
       " 'with',\n",
       " 'a',\n",
       " 'kitchen',\n",
       " 'with',\n",
       " 'a',\n",
       " 'kitchen',\n",
       " 'with',\n",
       " 'a',\n",
       " 'kitchen',\n",
       " 'with',\n",
       " 'a',\n",
       " 'kitchen',\n",
       " 'with',\n",
       " 'a',\n",
       " 'kitchen',\n",
       " 'with',\n",
       " 'a',\n",
       " 'kitchen',\n",
       " 'with',\n",
       " 'a',\n",
       " 'kitchen',\n",
       " 'with',\n",
       " 'a',\n",
       " 'kitchen',\n",
       " 'with',\n",
       " 'a',\n",
       " 'kitchen']"
      ]
     },
     "execution_count": 111,
     "metadata": {},
     "output_type": "execute_result"
    }
   ],
   "source": [
    "out = model.evaluate(im)\n",
    "out"
   ]
  },
  {
   "cell_type": "code",
   "execution_count": 112,
   "metadata": {},
   "outputs": [
    {
     "name": "stdout",
     "output_type": "stream",
     "text": [
      "tensor([[ -7.8399, -10.5591,   2.0626,  ...,  -9.0118,  -9.3886,  -9.5738]],\n",
      "       device='cuda:0', grad_fn=<AddmmBackward>)\n",
      "tensor([[-9.0643, -9.0360,  0.8131,  ..., -8.3798, -7.9336, -8.5249]],\n",
      "       device='cuda:0', grad_fn=<AddmmBackward>)\n",
      "tensor([[ -9.3490, -10.4534,   6.3471,  ..., -10.1493, -11.0170, -11.6716]],\n",
      "       device='cuda:0', grad_fn=<AddmmBackward>)\n",
      "tensor([[-6.7172, -9.8830,  4.2961,  ..., -7.7714, -7.9196, -8.4553]],\n",
      "       device='cuda:0', grad_fn=<AddmmBackward>)\n",
      "tensor([[-9.0643, -9.0360,  0.8131,  ..., -8.3798, -7.9336, -8.5249]],\n",
      "       device='cuda:0', grad_fn=<AddmmBackward>)\n",
      "tensor([[ -9.1748, -11.1537,   5.6441,  ..., -10.4314,  -9.8925, -11.4797]],\n",
      "       device='cuda:0', grad_fn=<AddmmBackward>)\n",
      "tensor([[ -8.1153, -10.5524,   5.1333,  ...,  -8.3677, -10.0384, -10.5396]],\n",
      "       device='cuda:0', grad_fn=<AddmmBackward>)\n",
      "tensor([[ -8.6871, -11.1059,   3.9026,  ...,  -9.1898, -11.2648, -10.6690]],\n",
      "       device='cuda:0', grad_fn=<AddmmBackward>)\n",
      "tensor([[ -8.7615,  -9.8794,   7.1102,  ...,  -9.7695, -11.1792, -10.5014]],\n",
      "       device='cuda:0', grad_fn=<AddmmBackward>)\n",
      "tensor([[ -7.5902, -10.1332,   4.8415,  ...,  -9.3391,  -9.4361,  -9.9072]],\n",
      "       device='cuda:0', grad_fn=<AddmmBackward>)\n",
      "tensor([[ -8.3825, -10.3479,   8.6518,  ...,  -9.2627, -10.1946, -10.4224]],\n",
      "       device='cuda:0', grad_fn=<AddmmBackward>)\n"
     ]
    },
    {
     "data": {
      "text/plain": [
       "['a',\n",
       " 'kitchen',\n",
       " 'with',\n",
       " 'a',\n",
       " 'kitchen',\n",
       " 'sits',\n",
       " 'a',\n",
       " 'table',\n",
       " 'above',\n",
       " 'with',\n",
       " '<end>']"
      ]
     },
     "execution_count": 112,
     "metadata": {},
     "output_type": "execute_result"
    }
   ],
   "source": [
    "out = model.evaluate(im, cap, True)\n",
    "out"
   ]
  },
  {
   "cell_type": "code",
   "execution_count": 86,
   "metadata": {},
   "outputs": [
    {
     "data": {
      "text/plain": [
       "torch.Size([1, 50])"
      ]
     },
     "execution_count": 86,
     "metadata": {},
     "output_type": "execute_result"
    }
   ],
   "source": [
    "cap.shape"
   ]
  }
 ],
 "metadata": {
  "kernelspec": {
   "display_name": "Python 3",
   "language": "python",
   "name": "python3"
  },
  "language_info": {
   "codemirror_mode": {
    "name": "ipython",
    "version": 3
   },
   "file_extension": ".py",
   "mimetype": "text/x-python",
   "name": "python",
   "nbconvert_exporter": "python",
   "pygments_lexer": "ipython3",
   "version": "3.7.0"
  }
 },
 "nbformat": 4,
 "nbformat_minor": 2
}
